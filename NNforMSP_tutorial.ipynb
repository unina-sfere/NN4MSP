{
 "cells": [
  {
   "cell_type": "markdown",
   "metadata": {},
   "source": [
    "<font size=\"3\"> In the following Jupyter Notebook we provide a tutorial to show how to implement in Python the proposed methodology to the real-case study to monitor the HVAC systems installed on board of passenger railway vehicles. The operational data were acquired and made available by the rail transport company Hitachi Rail S.p.A. based in Italy. </font>"
   ]
  },
  {
   "cell_type": "markdown",
   "metadata": {},
   "source": [
    "# Neural network based control charting for multiple stream processes with an application to HVAC systems in passenger railway vehicles"
   ]
  },
  {
   "cell_type": "code",
   "execution_count": null,
   "metadata": {},
   "outputs": [],
   "source": [
    "# Import libraries\n",
    "\n",
    "import pandas as pd\n",
    "import numpy as np\n",
    "import sklearn\n",
    "import keras\n",
    "\n",
    "from sklearn import preprocessing\n",
    "from sklearn.model_selection import train_test_split\n",
    "\n",
    "import matplotlib as mpl\n",
    "import matplotlib.pyplot as plt\n",
    "%matplotlib inline\n",
    "from matplotlib.ticker import ScalarFormatter, AutoMinorLocator\n",
    "\n",
    "from NNforMSP.functions import *"
   ]
  },
  {
   "cell_type": "markdown",
   "metadata": {},
   "source": [
    "## Neural Network training"
   ]
  },
  {
   "cell_type": "code",
   "execution_count": null,
   "metadata": {},
   "outputs": [],
   "source": [
    "# Set the simulation parameters to properly generate the data set to train the Neural Network (NN)\n",
    "\n",
    "s = 6 # number of streams\n",
    "k = 5 # subgroup size\n",
    "num_neg_samples = 55800 # number of negative samples of k observations\n",
    "num_pos_samples = 300 # number of positive samples of k observations for each OC scenario\n",
    "\n",
    "loc_res = 0 # Mean of the distribution of the residuals\n",
    "scale_res = 1 # Standard deviation of the distribution of the residuals"
   ]
  },
  {
   "cell_type": "code",
   "execution_count": null,
   "metadata": {},
   "outputs": [],
   "source": [
    "# Generate the data set to train the Neural Network and the corresponding vector of classes 0 and 1\n",
    "\n",
    "X, y = dataset_generator(s = s, k = k, num_neg_samples = num_neg_samples, num_pos_samples = num_pos_samples, loc_res = loc_res, scale_res = scale_res,\n",
    "          set_seed = 0)"
   ]
  },
  {
   "cell_type": "code",
   "execution_count": null,
   "metadata": {},
   "outputs": [],
   "source": [
    "# Train/validation split\n",
    "\n",
    "X_train, X_val, y_train, y_val = train_test_split(X, y, test_size=0.3, stratify = y ,random_state=27)"
   ]
  },
  {
   "cell_type": "code",
   "execution_count": null,
   "metadata": {},
   "outputs": [],
   "source": [
    "# Standardize features by removing the mean and scaling to unit variance\n",
    "\n",
    "scaler = preprocessing.StandardScaler().fit(X_train)\n",
    "X_train = scaler.transform(X_train)\n",
    "X_val = scaler.transform(X_val)"
   ]
  },
  {
   "cell_type": "code",
   "execution_count": null,
   "metadata": {},
   "outputs": [],
   "source": [
    "# NN hyperparameters\n",
    "\n",
    "num_hidden_layer = 1 # Number of hidden layers\n",
    "hidden_activation_function = ['relu'] # activation function in the hidden layer\n",
    "number_hidden_neuron = [5] # number of neurons in the hidden layer\n",
    "\n",
    "epochs = 10 # Number of epochs to train the model. An epoch is an iteration over the entire data set provided\n",
    "batch_size = 256 # Number of samples per gradient update\n",
    "\n",
    "# NN Training \n",
    "\n",
    "classifier = NN_model(hidden_activation_function = hidden_activation_function,\n",
    "                   num_hidden_layer = num_hidden_layer, num_hidden_neuron = number_hidden_neuron) \n",
    "\n",
    "# Compiling the neural network\n",
    "\n",
    "classifier.compile(optimizer ='adam', loss='binary_crossentropy', metrics = ['accuracy']) # Configures the model for training\n",
    "\n",
    "# Fitting \n",
    "\n",
    "history = classifier.fit(X_train, y_train, batch_size = batch_size, epochs = epochs, validation_data=(X_val, y_val)) # Trains the model"
   ]
  },
  {
   "cell_type": "code",
   "execution_count": null,
   "metadata": {},
   "outputs": [],
   "source": [
    "# History of training and validation accuracy\n",
    "\n",
    "plt.plot(history.history['accuracy'])\n",
    "plt.plot(history.history['val_accuracy'])\n",
    "plt.title('Model accuracy')\n",
    "plt.ylabel('Accuracy')\n",
    "plt.xlabel('epoch')\n",
    "plt.legend(['train', 'val'], loc='lower right')\n",
    "#plt.savefig('model_accuracy.png', dpi = 300)\n",
    "plt.show()"
   ]
  },
  {
   "cell_type": "code",
   "execution_count": null,
   "metadata": {},
   "outputs": [],
   "source": [
    "# Plot the Receiver Operating Characteristic (ROC) curve and compute the Area Under the Curve (AUC) \n",
    "\n",
    "fig_size = (5, 5)\n",
    "f = plt.figure(figsize=fig_size)\n",
    "f = ROC_AUC_plot(classifier, X_val, y_val, f, xlabel = 'False Positive Rate', ylabel = 'True Positive Rate')"
   ]
  },
  {
   "cell_type": "code",
   "execution_count": null,
   "metadata": {},
   "outputs": [],
   "source": [
    "#f.savefig('ROC_AUC_plot.png', dpi = 300)"
   ]
  },
  {
   "cell_type": "markdown",
   "metadata": {},
   "source": [
    "##  Set the cut-off value of the neuron in the output layer"
   ]
  },
  {
   "cell_type": "code",
   "execution_count": null,
   "metadata": {},
   "outputs": [],
   "source": [
    "set_seed = 0\n",
    "cv = 0.940 # cut-off value\n",
    "n = 100000 # number of samples of k observations\n",
    "\n",
    "alpha = set_cv_alpha(n = n, s = s, k = k, loc_res = loc_res, scale_res = scale_res , scaler = scaler, classifier = classifier, cv = cv, set_seed = set_seed)\n",
    "print(alpha)"
   ]
  },
  {
   "cell_type": "markdown",
   "metadata": {},
   "source": [
    "## Real-case study: HVAC systems in passenger railway vehicles "
   ]
  },
  {
   "cell_type": "code",
   "execution_count": null,
   "metadata": {},
   "outputs": [],
   "source": [
    "# Import HVAC data \n",
    "\n",
    "HVAC_data = pd.read_csv('HVAC_data.csv', parse_dates=['Timestamp'])\n",
    "HVAC_data.head()"
   ]
  },
  {
   "cell_type": "markdown",
   "metadata": {},
   "source": [
    "### Phase I"
   ]
  },
  {
   "cell_type": "code",
   "execution_count": null,
   "metadata": {},
   "outputs": [],
   "source": [
    "# Filter train 1 for Phase I estimatin\n",
    "\n",
    "train_1_data = HVAC_data[HVAC_data[\"Vehicle\"] == \"Train_1\"]\n",
    "\n",
    "# Filter date between \"07-27\" and \"08-08\" \n",
    "\n",
    "train_1_data = train_1_data.loc[(train_1_data['Timestamp'] >= '07-27')\n",
    "                     & (train_1_data['Timestamp'] < '08-08')]\n",
    "\n",
    "# Select the DeltaT variables \n",
    "\n",
    "train_1_data = train_1_data.iloc[:,-6:]\n",
    "\n",
    "# Compute the mean every k = 5 rows\n",
    "\n",
    "train_1_data = train_1_data.to_numpy() # Convert pandas dataframe to NumPy array\n",
    "train_1_data_mean = train_1_data.transpose().reshape(-1,k).mean(1).reshape(s,-1).transpose() "
   ]
  },
  {
   "cell_type": "code",
   "execution_count": null,
   "metadata": {
    "scrolled": true
   },
   "outputs": [],
   "source": [
    "# Plot the ΔT signals from the six train coaches\n",
    "\n",
    "fig = plt.figure(figsize=(12, 6))\n",
    "\n",
    "x = np.arange(1,51,1)\n",
    "\n",
    "plt.plot(x,train_1_data_mean[210:260,0], label = 'Coach 1', color='black', ls='-', marker='*')\n",
    "plt.plot(x,train_1_data_mean[210:260,1], label = 'Coach 2', color='blue', ls='-', marker='.')\n",
    "plt.plot(x,train_1_data_mean[210:260,2], label = 'Coach 3', color='red', ls='-.', marker= 's')\n",
    "plt.plot(x,train_1_data_mean[210:260,3], label = 'Coach 4', color='green', ls='-', marker='D')\n",
    "plt.plot(x,train_1_data_mean[210:260,4], label = 'Coach 5', color='orange', ls='-', marker='+')\n",
    "plt.plot(x,train_1_data_mean[210:260,5], label = 'Coach 6', color='violet', ls='-', marker='P')\n",
    "plt.xlabel('Subgroup', fontsize=12)\n",
    "plt.ylabel('$ \\Delta$T', fontsize=12)\n",
    "plt.legend(fontsize=10)\n",
    "\n",
    "plt.xlim([0,51])\n",
    "plt.tick_params(axis='both', which='major', size = 7, width = 1 , direction = 'out', labelsize = 10)\n",
    "\n",
    "plt.show()"
   ]
  },
  {
   "cell_type": "code",
   "execution_count": null,
   "metadata": {},
   "outputs": [],
   "source": [
    "# fig.savefig(\"plot_DeltaT_PhaseI_train_1.png\", dpi = 300)"
   ]
  },
  {
   "cell_type": "code",
   "execution_count": null,
   "metadata": {},
   "outputs": [],
   "source": [
    "# Compute the residuals from each train coach\n",
    "\n",
    "train_1_residual = train_1_data_mean - np.mean(train_1_data_mean, axis = 1, keepdims= True)"
   ]
  },
  {
   "cell_type": "code",
   "execution_count": null,
   "metadata": {},
   "outputs": [],
   "source": [
    "# Mean and variance estimations\n",
    "\n",
    "mean_res = np.mean(train_1_residual)\n",
    "std_res = np.std(train_1_residual)"
   ]
  },
  {
   "cell_type": "markdown",
   "metadata": {},
   "source": [
    "### Phase II"
   ]
  },
  {
   "cell_type": "markdown",
   "metadata": {},
   "source": [
    "#### Train 2"
   ]
  },
  {
   "cell_type": "code",
   "execution_count": null,
   "metadata": {},
   "outputs": [],
   "source": [
    "train_2_data = HVAC_data[HVAC_data[\"Vehicle\"] == \"Train_2\"] # Filter Vehicle by Train 2 \n",
    "train_2_data = train_2_data.iloc[0:-4,-6:] # Select the DeltaTemp variables \n",
    "train_2_data = train_2_data.to_numpy()\n",
    "train_2_data_mean = train_2_data.transpose().reshape(-1,k).mean(1).reshape(s,-1).transpose() # Average every 5 rows "
   ]
  },
  {
   "cell_type": "code",
   "execution_count": null,
   "metadata": {},
   "outputs": [],
   "source": [
    "# Plot the ΔT signals from the six train coaches \n",
    "\n",
    "fig = plt.figure(figsize=(12, 6))\n",
    "\n",
    "x = np.arange(1,31,1)\n",
    "\n",
    "plt.plot(x,train_2_data_mean[235:265,0], label = 'Coach 1', color='black', ls='-', marker='*')\n",
    "plt.plot(x,train_2_data_mean[235:265,1], label = 'Coach 2', color='blue', ls='-', marker='.')\n",
    "plt.plot(x,train_2_data_mean[235:265,2], label = 'Coach 3', color='red', ls='-.', marker= 's')\n",
    "plt.plot(x,train_2_data_mean[235:265,3], label = 'Coach 4', color='green', ls='-', marker='D')\n",
    "plt.plot(x,train_2_data_mean[235:265,4], label = 'Coach 5', color='orange', ls='-', marker='+')\n",
    "plt.plot(x,train_2_data_mean[235:265,5], label = 'Coach 6', color='violet', ls='-', marker='P')\n",
    "plt.xlabel('Subgroup', fontsize=12)\n",
    "plt.ylabel('$ \\Delta$T', fontsize=12)\n",
    "plt.legend(fontsize=10)\n",
    "\n",
    "plt.xlim([0,31])\n",
    "plt.tick_params(axis='both', which='major', size = 7, width = 1 , direction = 'out', labelsize = 10)\n",
    "\n",
    "plt.show()"
   ]
  },
  {
   "cell_type": "code",
   "execution_count": null,
   "metadata": {},
   "outputs": [],
   "source": [
    "#fig.savefig(\"plot_DeltaT_PhaseII_train_2.pdf\", dpi = 300)"
   ]
  },
  {
   "cell_type": "code",
   "execution_count": null,
   "metadata": {},
   "outputs": [],
   "source": [
    "# Definton of the input vector to give to the NN\n",
    "\n",
    "train_2_residual = train_2_data_mean - np.mean(train_2_data_mean, axis = 1, keepdims= True)\n",
    "train_2_mean_std = (train_2_residual - mean_res)/std_res\n",
    "overall_mean = train_2_mean_std.mean(axis=1) \n",
    "sample_range = train_2_mean_std.max(axis=1) - train_2_mean_std.min(axis=1) \n",
    "train_2_mean_std = np.c_[train_2_mean_std,overall_mean,sample_range]"
   ]
  },
  {
   "cell_type": "code",
   "execution_count": null,
   "metadata": {},
   "outputs": [],
   "source": [
    "# NN prediction\n",
    "\n",
    "train_2_mean_std = scaler.transform(train_2_mean_std)\n",
    "train_2_mean_std_pred = classifier.predict(train_2_mean_std)"
   ]
  },
  {
   "cell_type": "code",
   "execution_count": null,
   "metadata": {},
   "outputs": [],
   "source": [
    "# Control chart\n",
    "\n",
    "fig_size = (12, 6)\n",
    "fig_control_chart = plt.figure(figsize=fig_size)\n",
    "fig_control_chart = control_chart(NN_pred = train_2_mean_std_pred[235:265], fig_control_chart = fig_control_chart, \n",
    "                                  CV = cv, xlabel = \"Subgroup\", ylabel = \"Probability\")"
   ]
  },
  {
   "cell_type": "code",
   "execution_count": null,
   "metadata": {},
   "outputs": [],
   "source": [
    "#fig_control_chart.savefig(\"PhaseII_train_2_controlchart.png\", dpi = 300)"
   ]
  },
  {
   "cell_type": "markdown",
   "metadata": {},
   "source": [
    "#### Train 3"
   ]
  },
  {
   "cell_type": "code",
   "execution_count": null,
   "metadata": {},
   "outputs": [],
   "source": [
    "train_3_data = HVAC_data[HVAC_data[\"Vehicle\"] == \"Train_3\"]\n",
    "\n",
    "train_3_data = train_3_data.loc[(train_3_data['Timestamp'] >= '07-25')\n",
    "                     & (train_3_data['Timestamp'] < '07-26')]\n",
    "\n",
    "train_3_data = train_3_data.iloc[0:-3,-6:]\n",
    "\n",
    "train_3_data = train_3_data.to_numpy()\n",
    "train_3_data_mean = train_3_data.transpose().reshape(-1,k).mean(1).reshape(s,-1).transpose() "
   ]
  },
  {
   "cell_type": "code",
   "execution_count": null,
   "metadata": {},
   "outputs": [],
   "source": [
    "# Plot the ΔT signals from the six train coaches \n",
    "\n",
    "fig = plt.figure(figsize=(12, 6))\n",
    "\n",
    "x = np.arange(1,41,1)\n",
    "\n",
    "plt.plot(x,train_3_data_mean[15:55,0], label = 'Coach 1', color='black', ls='-', marker='*')\n",
    "plt.plot(x,train_3_data_mean[15:55,1], label = 'Coach 2', color='blue', ls='-', marker='.')\n",
    "plt.plot(x,train_3_data_mean[15:55,2], label = 'Coach 3', color='red', ls='-.', marker= 's')\n",
    "plt.plot(x,train_3_data_mean[15:55,3], label = 'Coach 4', color='green', ls='-', marker='D')\n",
    "plt.plot(x,train_3_data_mean[15:55,4], label = 'Coach 5', color='orange', ls='-', marker='+')\n",
    "plt.plot(x,train_3_data_mean[15:55,5], label = 'Coach 6', color='violet', ls='-', marker='P')\n",
    "plt.xlabel('Subgroup', fontsize=12)\n",
    "plt.ylabel('$ \\Delta$T', fontsize=12)\n",
    "plt.legend(fontsize=10)\n",
    "\n",
    "plt.xlim([0,41])\n",
    "plt.tick_params(axis='both', which='major', size = 7, width = 1 , direction = 'out', labelsize = 10)\n",
    "\n",
    "plt.show()"
   ]
  },
  {
   "cell_type": "code",
   "execution_count": null,
   "metadata": {},
   "outputs": [],
   "source": [
    "#fig.savefig(\"plot_DeltaT_PhaseII_train_3.png\", dpi = 300)"
   ]
  },
  {
   "cell_type": "code",
   "execution_count": null,
   "metadata": {},
   "outputs": [],
   "source": [
    "# Definition of the input vector to give to the NN\n",
    "\n",
    "train_3_data_mean = train_3_data_mean - np.mean(train_3_data_mean, axis = 1, keepdims= True)\n",
    "train_3_mean_std = (train_3_data_mean - mean_res)/std_res\n",
    "\n",
    "overall_mean = train_3_mean_std.mean(axis=1) \n",
    "sample_range = train_3_mean_std.max(axis=1) - train_3_mean_std.min(axis=1) \n",
    "train_3_mean_std = np.c_[train_3_mean_std,overall_mean,sample_range]"
   ]
  },
  {
   "cell_type": "code",
   "execution_count": null,
   "metadata": {},
   "outputs": [],
   "source": [
    "# NN prediction\n",
    "\n",
    "train_3_mean_std = scaler.transform(train_3_mean_std)\n",
    "train_3_mean_std_pred = classifier.predict(train_3_mean_std)"
   ]
  },
  {
   "cell_type": "code",
   "execution_count": null,
   "metadata": {},
   "outputs": [],
   "source": [
    "# Control chart\n",
    "\n",
    "fig_size = (12, 6)\n",
    "fig_control_chart = plt.figure(figsize=fig_size)\n",
    "fig_control_chart = control_chart(NN_pred = train_3_mean_std_pred[15:55], fig_control_chart = fig_control_chart, \n",
    "                                  CV = cv, xlabel = \"Subgroup\", ylabel = \"Probability\")"
   ]
  },
  {
   "cell_type": "code",
   "execution_count": null,
   "metadata": {},
   "outputs": [],
   "source": [
    "#fig_control_chart.savefig(\"PhaseII_train_3_controlchart.png\", dpi = 300)"
   ]
  }
 ],
 "metadata": {
  "kernelspec": {
   "display_name": "Python 3 (ipykernel)",
   "language": "python",
   "name": "python3"
  },
  "language_info": {
   "codemirror_mode": {
    "name": "ipython",
    "version": 3
   },
   "file_extension": ".py",
   "mimetype": "text/x-python",
   "name": "python",
   "nbconvert_exporter": "python",
   "pygments_lexer": "ipython3",
   "version": "3.8.11"
  }
 },
 "nbformat": 4,
 "nbformat_minor": 2
}
